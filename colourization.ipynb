{
  "nbformat": 4,
  "nbformat_minor": 0,
  "metadata": {
    "colab": {
      "name": "colourization.ipynb",
      "version": "0.3.2",
      "provenance": [],
      "collapsed_sections": [],
      "toc_visible": true
    },
    "kernelspec": {
      "name": "python2",
      "display_name": "Python 2"
    },
    "accelerator": "GPU"
  },
  "cells": [
    {
      "metadata": {
        "id": "TjPTaRB4mpCd",
        "colab_type": "text"
      },
      "cell_type": "markdown",
      "source": [
        "# Colab FAQ\n",
        "\n",
        "For some basic overview and features offered in Colab notebooks, check out: [Overview of Colaboratory Features](https://colab.research.google.com/notebooks/basic_features_overview.ipynb)\n",
        "\n",
        "You need to use the colab GPU for this assignmentby selecting:\n",
        "\n",
        "> **Runtime**   →   **Change runtime type**   →   **Hardware Accelerator: GPU**"
      ]
    },
    {
      "metadata": {
        "id": "s9IS9B9-yUU5",
        "colab_type": "text"
      },
      "cell_type": "markdown",
      "source": [
        "# Download CIFAR and Colour dictionary\n",
        "It can take up to a couple of minutes to download everything the first time.\n",
        "\n",
        "All files are stored at /content/csc421/a2/data/ folder"
      ]
    },
    {
      "metadata": {
        "id": "4BIpGwANoQOg",
        "colab_type": "text"
      },
      "cell_type": "markdown",
      "source": [
        "## Helper code\n",
        "You can ignore the restart warning."
      ]
    },
    {
      "metadata": {
        "id": "piDmAsqFG0gU",
        "colab_type": "code",
        "colab": {
          "base_uri": "https://localhost:8080/",
          "height": 614
        },
        "outputId": "699870ec-c798-4df2-bd72-9350e76c6f2e"
      },
      "cell_type": "code",
      "source": [
        "######################################################################\n",
        "# Setup python environment and change the current working directory\n",
        "######################################################################\n",
        "!pip install torch torchvision\n",
        "!pip install Pillow==4.0.0\n",
        "%mkdir -p /content/csc421/a2/\n",
        "%cd /content/csc421/a2"
      ],
      "execution_count": 6,
      "outputs": [
        {
          "output_type": "stream",
          "text": [
            "Requirement already satisfied: torch in /usr/local/lib/python2.7/dist-packages (1.0.1.post2)\n",
            "Requirement already satisfied: torchvision in /usr/local/lib/python2.7/dist-packages (0.2.1)\n",
            "Requirement already satisfied: six in /usr/local/lib/python2.7/dist-packages (from torchvision) (1.11.0)\n",
            "Requirement already satisfied: numpy in /usr/local/lib/python2.7/dist-packages (from torchvision) (1.14.6)\n",
            "Collecting pillow>=4.1.1 (from torchvision)\n",
            "  Using cached https://files.pythonhosted.org/packages/0d/f3/421598450cb9503f4565d936860763b5af413a61009d87a5ab1e34139672/Pillow-5.4.1-cp27-cp27mu-manylinux1_x86_64.whl\n",
            "\u001b[31mfastai 0.7.0 has requirement torch<0.4, but you'll have torch 1.0.1.post2 which is incompatible.\u001b[0m\n",
            "\u001b[31mimgaug 0.2.8 has requirement numpy>=1.15.0, but you'll have numpy 1.14.6 which is incompatible.\u001b[0m\n",
            "Installing collected packages: pillow\n",
            "  Found existing installation: Pillow 4.0.0\n",
            "    Uninstalling Pillow-4.0.0:\n",
            "      Successfully uninstalled Pillow-4.0.0\n",
            "Successfully installed pillow-5.4.1\n"
          ],
          "name": "stdout"
        },
        {
          "output_type": "display_data",
          "data": {
            "application/vnd.colab-display-data+json": {
              "pip_warning": {
                "packages": [
                  "PIL"
                ]
              }
            }
          },
          "metadata": {
            "tags": []
          }
        },
        {
          "output_type": "stream",
          "text": [
            "Collecting Pillow==4.0.0\n",
            "  Using cached https://files.pythonhosted.org/packages/89/99/0e3522a9764fe371bf9f7729404b1ef7d9c4fc49cbe5f1761c6e07812345/Pillow-4.0.0-cp27-cp27mu-manylinux1_x86_64.whl\n",
            "Requirement already satisfied: olefile in /usr/local/lib/python2.7/dist-packages (from Pillow==4.0.0) (0.46)\n",
            "\u001b[31mfastai 0.7.0 has requirement torch<0.4, but you'll have torch 1.0.1.post2 which is incompatible.\u001b[0m\n",
            "\u001b[31mimgaug 0.2.8 has requirement numpy>=1.15.0, but you'll have numpy 1.14.6 which is incompatible.\u001b[0m\n",
            "\u001b[31mtorchvision 0.2.1 has requirement pillow>=4.1.1, but you'll have pillow 4.0.0 which is incompatible.\u001b[0m\n",
            "Installing collected packages: Pillow\n",
            "  Found existing installation: Pillow 5.4.1\n",
            "    Uninstalling Pillow-5.4.1:\n",
            "      Successfully uninstalled Pillow-5.4.1\n",
            "Successfully installed Pillow-4.0.0\n"
          ],
          "name": "stdout"
        },
        {
          "output_type": "display_data",
          "data": {
            "application/vnd.colab-display-data+json": {
              "pip_warning": {
                "packages": [
                  "PIL"
                ]
              }
            }
          },
          "metadata": {
            "tags": []
          }
        },
        {
          "output_type": "stream",
          "text": [
            "/content/csc421/a2\n"
          ],
          "name": "stdout"
        }
      ]
    },
    {
      "metadata": {
        "id": "wa5-onJhoSeM",
        "colab_type": "code",
        "colab": {}
      },
      "cell_type": "code",
      "source": [
        "# adapted from \n",
        "# https://github.com/fchollet/keras/blob/master/keras/datasets/cifar10.py\n",
        "\n",
        "import os\n",
        "from six.moves.urllib.request import urlretrieve\n",
        "import tarfile\n",
        "import numpy as np\n",
        "import pickle\n",
        "import sys\n",
        "from PIL import Image\n",
        "\n",
        "\n",
        "def get_file(fname,\n",
        "             origin,\n",
        "             untar=False,\n",
        "             extract=False,\n",
        "             archive_format='auto',\n",
        "             cache_dir='data'):\n",
        "    datadir = os.path.join(cache_dir)\n",
        "    if not os.path.exists(datadir):\n",
        "        os.makedirs(datadir)\n",
        "\n",
        "    if untar:\n",
        "        untar_fpath = os.path.join(datadir, fname)\n",
        "        fpath = untar_fpath + '.tar.gz'\n",
        "    else:\n",
        "        fpath = os.path.join(datadir, fname)\n",
        "    \n",
        "    print(fpath)\n",
        "    if not os.path.exists(fpath):\n",
        "        print('Downloading data from', origin)\n",
        "\n",
        "        error_msg = 'URL fetch failure on {}: {} -- {}'\n",
        "        try:\n",
        "            try:\n",
        "                urlretrieve(origin, fpath)\n",
        "            except URLError as e:\n",
        "                raise Exception(error_msg.format(origin, e.errno, e.reason))\n",
        "            except HTTPError as e:\n",
        "                raise Exception(error_msg.format(origin, e.code, e.msg))\n",
        "        except (Exception, KeyboardInterrupt) as e:\n",
        "            if os.path.exists(fpath):\n",
        "                os.remove(fpath)\n",
        "            raise\n",
        "\n",
        "    if untar:\n",
        "        if not os.path.exists(untar_fpath):\n",
        "            print('Extracting file.')\n",
        "            with tarfile.open(fpath) as archive:\n",
        "                archive.extractall(datadir)\n",
        "        return untar_fpath\n",
        "\n",
        "    if extract:\n",
        "        _extract_archive(fpath, datadir, archive_format)\n",
        "\n",
        "    return fpath\n",
        "\n",
        "\n",
        "\n",
        "def load_batch(fpath, label_key='labels'):\n",
        "    \"\"\"Internal utility for parsing CIFAR data.\n",
        "    # Arguments\n",
        "        fpath: path the file to parse.\n",
        "        label_key: key for label data in the retrieve\n",
        "            dictionary.\n",
        "    # Returns\n",
        "        A tuple `(data, labels)`.\n",
        "    \"\"\"\n",
        "    f = open(fpath, 'rb')\n",
        "    if sys.version_info < (3,):\n",
        "        d = pickle.load(f)\n",
        "    else:\n",
        "        d = pickle.load(f, encoding='bytes')\n",
        "        # decode utf8\n",
        "        d_decoded = {}\n",
        "        for k, v in d.items():\n",
        "            d_decoded[k.decode('utf8')] = v\n",
        "        d = d_decoded\n",
        "    f.close()\n",
        "    data = d['data']\n",
        "    labels = d[label_key]\n",
        "\n",
        "    data = data.reshape(data.shape[0], 3, 32, 32)\n",
        "    return data, labels\n",
        "\n",
        "def load_cifar10(transpose=False):\n",
        "    \"\"\"Loads CIFAR10 dataset.\n",
        "    # Returns\n",
        "        Tuple of Numpy arrays: `(x_train, y_train), (x_test, y_test)`.\n",
        "    \"\"\"\n",
        "    dirname = 'cifar-10-batches-py'\n",
        "    origin = 'http://www.cs.toronto.edu/~kriz/cifar-10-python.tar.gz'\n",
        "    path = get_file(dirname, origin=origin, untar=True)\n",
        "\n",
        "    num_train_samples = 50000\n",
        "\n",
        "    x_train = np.zeros((num_train_samples, 3, 32, 32), dtype='uint8')\n",
        "    y_train = np.zeros((num_train_samples,), dtype='uint8')\n",
        "\n",
        "    for i in range(1, 6):\n",
        "        fpath = os.path.join(path, 'data_batch_' + str(i))\n",
        "        data, labels = load_batch(fpath)\n",
        "        x_train[(i - 1) * 10000: i * 10000, :, :, :] = data\n",
        "        y_train[(i - 1) * 10000: i * 10000] = labels\n",
        "\n",
        "    fpath = os.path.join(path, 'test_batch')\n",
        "    x_test, y_test = load_batch(fpath)\n",
        "\n",
        "    y_train = np.reshape(y_train, (len(y_train), 1))\n",
        "    y_test = np.reshape(y_test, (len(y_test), 1))\n",
        "\n",
        "    if transpose:\n",
        "        x_train = x_train.transpose(0, 2, 3, 1)\n",
        "        x_test = x_test.transpose(0, 2, 3, 1)\n",
        "    return (x_train, y_train), (x_test, y_test)\n"
      ],
      "execution_count": 0,
      "outputs": []
    },
    {
      "metadata": {
        "id": "2jIKvJNtoVgU",
        "colab_type": "text"
      },
      "cell_type": "markdown",
      "source": [
        "## Download files\n",
        "\n",
        "This may take 1 or 2 mins for the first time."
      ]
    },
    {
      "metadata": {
        "id": "l7fti3cryStt",
        "colab_type": "code",
        "colab": {
          "base_uri": "https://localhost:8080/",
          "height": 51
        },
        "outputId": "4783ae2e-a64e-4db0-c698-333b6cfa39bf"
      },
      "cell_type": "code",
      "source": [
        "######################################################################\n",
        "# Download CIFAR datasets and other related files\n",
        "######################################################################\n",
        "colours_fpath = get_file(fname='colours', \n",
        "                         origin='http://www.cs.toronto.edu/~jba/kmeans_colour_a2.tar.gz', \n",
        "                         untar=True)\n",
        "m = load_cifar10()"
      ],
      "execution_count": 8,
      "outputs": [
        {
          "output_type": "stream",
          "text": [
            "data/colours.tar.gz\n",
            "data/cifar-10-batches-py.tar.gz\n"
          ],
          "name": "stdout"
        }
      ]
    },
    {
      "metadata": {
        "id": "bXNsLNkOn38w",
        "colab_type": "text"
      },
      "cell_type": "markdown",
      "source": [
        "# Code for training and CNN models"
      ]
    },
    {
      "metadata": {
        "id": "oWyZwl9VKkxD",
        "colab_type": "text"
      },
      "cell_type": "markdown",
      "source": [
        "## Data preprocessing"
      ]
    },
    {
      "metadata": {
        "id": "bTF1TQObE6DG",
        "colab_type": "code",
        "colab": {}
      },
      "cell_type": "code",
      "source": [
        "\"\"\"\n",
        "Colourization of CIFAR-10 Horses via classification.\n",
        "\"\"\"\n",
        "from __future__ import print_function\n",
        "import argparse\n",
        "import math\n",
        "import numpy as np\n",
        "import numpy.random as npr\n",
        "import scipy.misc\n",
        "import time\n",
        "import torch \n",
        "import torch.nn as nn\n",
        "import torch.nn.functional as F\n",
        "from torch.autograd import Variable\n",
        "import matplotlib\n",
        "import matplotlib.pyplot as plt \n",
        "\n",
        "\n",
        "#from load_data import load_cifar10\n",
        "\n",
        "HORSE_CATEGORY = 7\n",
        "\n",
        "######################################################################\n",
        "# Data related code\n",
        "######################################################################\n",
        "def get_rgb_cat(xs, colours):\n",
        "    \"\"\"\n",
        "    Get colour categories given RGB values. This function doesn't\n",
        "    actually do the work, instead it splits the work into smaller\n",
        "    chunks that can fit into memory, and calls helper function\n",
        "    _get_rgb_cat\n",
        "\n",
        "    Args:\n",
        "      xs: float numpy array of RGB images in [B, C, H, W] format\n",
        "      colours: numpy array of colour categories and their RGB values\n",
        "    Returns:\n",
        "      result: int numpy array of shape [B, 1, H, W]\n",
        "    \"\"\"\n",
        "    if np.shape(xs)[0] < 100:\n",
        "        return _get_rgb_cat(xs)\n",
        "    batch_size = 100\n",
        "    nexts = []\n",
        "    for i in range(0, np.shape(xs)[0], batch_size):\n",
        "        next = _get_rgb_cat(xs[i:i+batch_size,:,:,:], colours)\n",
        "        nexts.append(next)\n",
        "    result = np.concatenate(nexts, axis=0)\n",
        "    return result\n",
        "\n",
        "def _get_rgb_cat(xs, colours):\n",
        "    \"\"\"\n",
        "    Get colour categories given RGB values. This is done by choosing\n",
        "    the colour in `colours` that is the closest (in RGB space) to\n",
        "    each point in the image `xs`. This function is a little memory\n",
        "    intensive, and so the size of `xs` should not be too large.\n",
        "\n",
        "    Args:\n",
        "      xs: float numpy array of RGB images in [B, C, H, W] format\n",
        "      colours: numpy array of colour categories and their RGB values\n",
        "    Returns:\n",
        "      result: int numpy array of shape [B, 1, H, W]\n",
        "    \"\"\"\n",
        "    num_colours = np.shape(colours)[0]\n",
        "    xs = np.expand_dims(xs, 0)\n",
        "    cs = np.reshape(colours, [num_colours,1,3,1,1])\n",
        "    dists = np.linalg.norm(xs-cs, axis=2) # 2 = colour axis\n",
        "    cat = np.argmin(dists, axis=0)\n",
        "    cat = np.expand_dims(cat, axis=1)\n",
        "    return cat\n",
        "\n",
        "def get_cat_rgb(cats, colours):\n",
        "    \"\"\"\n",
        "    Get RGB colours given the colour categories\n",
        "\n",
        "    Args:\n",
        "      cats: integer numpy array of colour categories\n",
        "      colours: numpy array of colour categories and their RGB values\n",
        "    Returns:\n",
        "      numpy tensor of RGB colours\n",
        "    \"\"\"\n",
        "    return colours[cats]\n",
        "\n",
        "def process(xs, ys, max_pixel=256.0, downsize_input=False):\n",
        "    \"\"\"\n",
        "    Pre-process CIFAR10 images by taking only the horse category,\n",
        "    shuffling, and have colour values be bound between 0 and 1\n",
        "\n",
        "    Args:\n",
        "      xs: the colour RGB pixel values\n",
        "      ys: the category labels\n",
        "      max_pixel: maximum pixel value in the original data\n",
        "    Returns:\n",
        "      xs: value normalized and shuffled colour images\n",
        "      grey: greyscale images, also normalized so values are between 0 and 1\n",
        "    \"\"\"\n",
        "    xs = xs / max_pixel\n",
        "    xs = xs[np.where(ys == HORSE_CATEGORY)[0], :, :, :]\n",
        "    npr.shuffle(xs)\n",
        "    \n",
        "    grey = np.mean(xs, axis=1, keepdims=True)\n",
        "\n",
        "    if downsize_input:\n",
        "      downsize_module = nn.Sequential(nn.AvgPool2d(2),\n",
        "                               nn.AvgPool2d(2), \n",
        "                               nn.Upsample(scale_factor=2), \n",
        "                               nn.Upsample(scale_factor=2))\n",
        "      xs_downsized = downsize_module.forward(torch.from_numpy(xs).float())\n",
        "      xs_downsized = xs_downsized.data.numpy()\n",
        "      return (xs, xs_downsized)\n",
        "    else:\n",
        "      return (xs, grey)\n",
        "\n",
        "\n",
        "def get_batch(x, y, batch_size):\n",
        "    '''\n",
        "    Generated that yields batches of data\n",
        "\n",
        "    Args:\n",
        "      x: input values\n",
        "      y: output values\n",
        "      batch_size: size of each batch\n",
        "    Yields:\n",
        "      batch_x: a batch of inputs of size at most batch_size\n",
        "      batch_y: a batch of outputs of size at most batch_size\n",
        "    '''\n",
        "    N = np.shape(x)[0]\n",
        "    assert N == np.shape(y)[0]\n",
        "    for i in range(0, N, batch_size):\n",
        "        batch_x = x[i:i+batch_size, :,:,:]\n",
        "        batch_y = y[i:i+batch_size, :,:,:]\n",
        "        yield (batch_x, batch_y)\n",
        "\n",
        "######################################################################\n",
        "# Torch Helper\n",
        "######################################################################\n",
        "\n",
        "def get_torch_vars(xs, ys, gpu=False):\n",
        "    \"\"\"\n",
        "    Helper function to convert numpy arrays to pytorch tensors.\n",
        "    If GPU is used, move the tensors to GPU.\n",
        "\n",
        "    Args:\n",
        "      xs (float numpy tenosor): greyscale input\n",
        "      ys (int numpy tenosor): categorical labels \n",
        "      gpu (bool): whether to move pytorch tensor to GPU\n",
        "    Returns:\n",
        "      Variable(xs), Variable(ys)\n",
        "    \"\"\"\n",
        "    xs = torch.from_numpy(xs).float()\n",
        "    ys = torch.from_numpy(ys).long()\n",
        "    if gpu:\n",
        "        xs = xs.cuda()\n",
        "        ys = ys.cuda()\n",
        "    return Variable(xs), Variable(ys)\n",
        "\n",
        "def compute_loss(criterion, outputs, labels, batch_size, num_colours):\n",
        "    \"\"\"\n",
        "    Helper function to compute the loss. Since this is a pixelwise\n",
        "    prediction task we need to reshape the output and ground truth\n",
        "    tensors into a 2D tensor before passing it in to the loss criteron.\n",
        "\n",
        "    Args:\n",
        "      criterion: pytorch loss criterion\n",
        "      outputs (pytorch tensor): predicted labels from the model\n",
        "      labels (pytorch tensor): ground truth labels\n",
        "      batch_size (int): batch size used for training\n",
        "      num_colours (int): number of colour categories\n",
        "    Returns:\n",
        "      pytorch tensor for loss\n",
        "    \"\"\"\n",
        "\n",
        "    loss_out = outputs.transpose(1,3) \\\n",
        "                      .contiguous() \\\n",
        "                      .view([batch_size*32*32, num_colours])\n",
        "    loss_lab = labels.transpose(1,3) \\\n",
        "                      .contiguous() \\\n",
        "                      .view([batch_size*32*32])\n",
        "    return criterion(loss_out, loss_lab)\n",
        "\n",
        "def run_validation_step(cnn, criterion, test_grey, test_rgb_cat, batch_size,\n",
        "                        colours, plotpath=None, visualize=True, downsize_input=False):\n",
        "    correct = 0.0\n",
        "    total = 0.0\n",
        "    losses = []\n",
        "    num_colours = np.shape(colours)[0]\n",
        "    for i, (xs, ys) in enumerate(get_batch(test_grey,\n",
        "                                           test_rgb_cat,\n",
        "                                           batch_size)):\n",
        "        images, labels = get_torch_vars(xs, ys, args.gpu)\n",
        "        outputs = cnn(images)\n",
        "\n",
        "        val_loss = compute_loss(criterion,\n",
        "                                outputs,\n",
        "                                labels,\n",
        "                                batch_size=args.batch_size,\n",
        "                                num_colours=num_colours)\n",
        "        losses.append(val_loss.data.item())\n",
        "\n",
        "        _, predicted = torch.max(outputs.data, 1, keepdim=True)\n",
        "        total += labels.size(0) * 32 * 32\n",
        "        correct += (predicted == labels.data).sum()\n",
        "\n",
        "    if plotpath: # only plot if a path is provided\n",
        "        plot(xs, ys, predicted.cpu().numpy(), colours, \n",
        "             plotpath, visualize=visualize, compare_bilinear=downsize_input)\n",
        "\n",
        "    val_loss = np.mean(losses)\n",
        "    val_acc = 100 * correct / total\n",
        "    return val_loss, val_acc\n"
      ],
      "execution_count": 0,
      "outputs": []
    },
    {
      "metadata": {
        "id": "rp_wCpMjqt5w",
        "colab_type": "text"
      },
      "cell_type": "markdown",
      "source": [
        "## Visualization"
      ]
    },
    {
      "metadata": {
        "id": "syg8NjwMqw_F",
        "colab_type": "code",
        "colab": {}
      },
      "cell_type": "code",
      "source": [
        "def plot(input, gtlabel, output, colours, path, visualize, compare_bilinear=False):\n",
        "    \"\"\"\n",
        "    Generate png plots of input, ground truth, and outputs\n",
        "\n",
        "    Args:\n",
        "      input: the greyscale input to the colourization CNN\n",
        "      gtlabel: the grouth truth categories for each pixel\n",
        "      output: the predicted categories for each pixel\n",
        "      colours: numpy array of colour categories and their RGB values\n",
        "      path: output path\n",
        "      visualize: display the figures inline or save the figures in path\n",
        "    \"\"\"\n",
        "    grey = np.transpose(input[:10,:,:,:], [0,2,3,1])\n",
        "    gtcolor = get_cat_rgb(gtlabel[:10,0,:,:], colours)\n",
        "    predcolor = get_cat_rgb(output[:10,0,:,:], colours)\n",
        "\n",
        "    img_stack = [\n",
        "      np.hstack(np.tile(grey, [1,1,1,3])),\n",
        "      np.hstack(gtcolor),\n",
        "      np.hstack(predcolor)]\n",
        "    \n",
        "    if compare_bilinear:\n",
        "      downsize_module = nn.Sequential(nn.AvgPool2d(2),\n",
        "                                 nn.AvgPool2d(2), \n",
        "                                 nn.Upsample(scale_factor=2, mode='bilinear'), \n",
        "                                 nn.Upsample(scale_factor=2, mode='bilinear'))\n",
        "      gt_input = np.transpose(gtcolor, [0, 3, 1, 2,])\n",
        "      color_bilinear = downsize_module.forward(torch.from_numpy(gt_input).float())\n",
        "      color_bilinear = np.transpose(color_bilinear.data.numpy(), [0, 2, 3, 1])\n",
        "      img_stack = [\n",
        "        np.hstack(np.transpose(input[:10,:,:,:], [0,2,3,1])),\n",
        "        np.hstack(gtcolor),\n",
        "        np.hstack(predcolor),\n",
        "        np.hstack(color_bilinear)]\n",
        "    img = np.vstack(img_stack)\n",
        "    \n",
        "    plt.grid('off')\n",
        "    plt.imshow(img, vmin=0., vmax=1.)\n",
        "    if visualize:\n",
        "      plt.show()\n",
        "    else:\n",
        "      plt.savefig(path)\n",
        "\n",
        "def toimage(img, cmin, cmax):\n",
        "    return Image.fromarray((img.clip(cmin, cmax)*255).astype(np.uint8))\n",
        "  \n",
        "def plot_activation(args, cnn):\n",
        "    # LOAD THE COLOURS CATEGORIES\n",
        "    colours = np.load(args.colours)[0]\n",
        "    num_colours = np.shape(colours)[0]\n",
        "    \n",
        "    (x_train, y_train), (x_test, y_test) = load_cifar10()\n",
        "    test_rgb, test_grey = process(x_test, y_test, downsize_input = args.downsize_input)\n",
        "    test_rgb_cat = get_rgb_cat(test_rgb, colours)\n",
        "    \n",
        "    # Take the idnex of the test image\n",
        "    id = args.index\n",
        "    outdir = \"outputs/\" + args.experiment_name + '/act' + str(id)\n",
        "    if not os.path.exists(outdir):\n",
        "      os.makedirs(outdir)\n",
        "    images, labels = get_torch_vars(np.expand_dims(test_grey[id], 0),\n",
        "                                    np.expand_dims(test_rgb_cat[id], 0))\n",
        "    cnn.cpu()\n",
        "    outputs = cnn(images)\n",
        "    _, predicted = torch.max(outputs.data, 1, keepdim=True)\n",
        "    predcolor = get_cat_rgb(predicted.cpu().numpy()[0,0,:,:], colours)\n",
        "    img = predcolor\n",
        "    toimage(predcolor, cmin=0, cmax=1) \\\n",
        "            .save(os.path.join(outdir, \"output_%d.png\" % id))\n",
        "\n",
        "    if not args.downsize_input:\n",
        "      img = np.tile(np.transpose(test_grey[id], [1,2,0]), [1,1,3])\n",
        "    else:\n",
        "      img = np.transpose(test_grey[id], [1,2,0])\n",
        "    toimage(img, cmin=0, cmax=1) \\\n",
        "            .save(os.path.join(outdir, \"input_%d.png\" % id))\n",
        "\n",
        "    img = np.transpose(test_rgb[id], [1,2,0])\n",
        "    toimage(img, cmin=0, cmax=1) \\\n",
        "            .save(os.path.join(outdir, \"input_%d_gt.png\" % id))\n",
        "\n",
        "    \n",
        "    def add_border(img):\n",
        "        return np.pad(img, 1, \"constant\", constant_values=1.0)\n",
        "\n",
        "    def draw_activations(path, activation, imgwidth=4):\n",
        "        img = np.vstack([\n",
        "            np.hstack([\n",
        "                add_border(filter) for filter in\n",
        "                activation[i*imgwidth:(i+1)*imgwidth,:,:]])\n",
        "            for i in range(activation.shape[0] // imgwidth)])\n",
        "        scipy.misc.imsave(path, img)\n",
        "\n",
        "\n",
        "    for i, tensor in enumerate([cnn.out1, cnn.out2, cnn.out3, cnn.out4, cnn.out5]):\n",
        "        draw_activations(\n",
        "            os.path.join(outdir, \"conv%d_out_%d.png\" % (i+1, id)),\n",
        "            tensor.data.cpu().numpy()[0])\n",
        "    print(\"visualization results are saved to %s\"%outdir)"
      ],
      "execution_count": 0,
      "outputs": []
    },
    {
      "metadata": {
        "id": "xIa_fiZYnRy7",
        "colab_type": "text"
      },
      "cell_type": "markdown",
      "source": [
        "## Training"
      ]
    },
    {
      "metadata": {
        "id": "LtAdbbzHnP-n",
        "colab_type": "code",
        "colab": {}
      },
      "cell_type": "code",
      "source": [
        "class AttrDict(dict):\n",
        "    def __init__(self, *args, **kwargs):\n",
        "        super(AttrDict, self).__init__(*args, **kwargs)\n",
        "        self.__dict__ = self\n",
        "\n",
        "def train(args, cnn=None):\n",
        "    # Set the maximum number of threads to prevent crash in Teaching Labs\n",
        "    torch.set_num_threads(5)\n",
        "    # Numpy random seed\n",
        "    npr.seed(args.seed)\n",
        "    \n",
        "    # Save directory\n",
        "    save_dir = \"outputs/\" + args.experiment_name\n",
        "\n",
        "    # LOAD THE COLOURS CATEGORIES\n",
        "    colours = np.load(args.colours)[0]\n",
        "    num_colours = np.shape(colours)[0]\n",
        "    # INPUT CHANNEL\n",
        "    num_in_channels = 1 if not args.downsize_input else 3\n",
        "    # LOAD THE MODEL\n",
        "    if cnn is None:\n",
        "      if args.model == \"CNN\":\n",
        "          cnn = CNN(args.kernel, args.num_filters, num_colours, num_in_channels)\n",
        "      elif args.model == \"UNet\":\n",
        "          cnn = UNet(args.kernel, args.num_filters, num_colours, num_in_channels)\n",
        "\n",
        "    # LOSS FUNCTION\n",
        "    criterion = nn.CrossEntropyLoss()\n",
        "    optimizer = torch.optim.Adam(cnn.parameters(), lr=args.learn_rate)\n",
        "\n",
        "    # DATA\n",
        "    print(\"Loading data...\")\n",
        "    (x_train, y_train), (x_test, y_test) = load_cifar10()\n",
        "\n",
        "    print(\"Transforming data...\")\n",
        "    train_rgb, train_grey = process(x_train, y_train, downsize_input = args.downsize_input)\n",
        "    train_rgb_cat = get_rgb_cat(train_rgb, colours)\n",
        "    test_rgb, test_grey = process(x_test, y_test, downsize_input = args.downsize_input)\n",
        "    test_rgb_cat = get_rgb_cat(test_rgb, colours)\n",
        "\n",
        "    # Create the outputs folder if not created already\n",
        "    if not os.path.exists(save_dir):\n",
        "        os.makedirs(save_dir)\n",
        "\n",
        "    print(\"Beginning training ...\")\n",
        "    if args.gpu: cnn.cuda()\n",
        "    start = time.time()\n",
        "\n",
        "    train_losses = []\n",
        "    valid_losses = []\n",
        "    valid_accs = []\n",
        "    for epoch in range(args.epochs):\n",
        "        # Train the Model\n",
        "        cnn.train() # Change model to 'train' mode\n",
        "        losses = []\n",
        "        for i, (xs, ys) in enumerate(get_batch(train_grey,\n",
        "                                               train_rgb_cat,\n",
        "                                               args.batch_size)):\n",
        "            images, labels = get_torch_vars(xs, ys, args.gpu)\n",
        "            # Forward + Backward + Optimize\n",
        "            optimizer.zero_grad()\n",
        "            outputs = cnn(images)\n",
        "\n",
        "            loss = compute_loss(criterion,\n",
        "                                outputs,\n",
        "                                labels,\n",
        "                                batch_size=args.batch_size,\n",
        "                                num_colours=num_colours)\n",
        "            loss.backward()\n",
        "            optimizer.step()\n",
        "            losses.append(loss.data.item())\n",
        "\n",
        "        # plot training images\n",
        "        if args.plot:\n",
        "            _, predicted = torch.max(outputs.data, 1, keepdim=True)\n",
        "            plot(xs, ys, predicted.cpu().numpy(), colours,\n",
        "                 save_dir+'/train_%d.png' % epoch, \n",
        "                 args.visualize, \n",
        "                 args.downsize_input)\n",
        "\n",
        "        # plot training images\n",
        "        avg_loss = np.mean(losses)\n",
        "        train_losses.append(avg_loss)\n",
        "        time_elapsed = time.time() - start\n",
        "        print('Epoch [%d/%d], Loss: %.4f, Time (s): %d' % (\n",
        "            epoch+1, args.epochs, avg_loss, time_elapsed))\n",
        "\n",
        "        # Evaluate the model\n",
        "        cnn.eval()  # Change model to 'eval' mode (BN uses moving mean/var).\n",
        "        val_loss, val_acc = run_validation_step(cnn,\n",
        "                                                criterion,\n",
        "                                                test_grey,\n",
        "                                                test_rgb_cat,\n",
        "                                                args.batch_size,\n",
        "                                                colours,\n",
        "                                                save_dir+'/test_%d.png' % epoch,\n",
        "                                                args.visualize,\n",
        "                                                args.downsize_input)\n",
        "\n",
        "        time_elapsed = time.time() - start\n",
        "        valid_losses.append(val_loss)\n",
        "        valid_accs.append(val_acc)\n",
        "        print('Epoch [%d/%d], Val Loss: %.4f, Val Acc: %.1f%%, Time(s): %d' % (\n",
        "            epoch+1, args.epochs, val_loss, val_acc, time_elapsed))\n",
        "    \n",
        "    # Plot training curve\n",
        "    plt.figure()\n",
        "    plt.plot(train_losses, \"ro-\", label=\"Train\")\n",
        "    plt.plot(valid_losses, \"go-\", label=\"Validation\")\n",
        "    plt.legend()\n",
        "    plt.title(\"Loss\")\n",
        "    plt.xlabel(\"Epochs\")\n",
        "    plt.savefig(save_dir+\"/training_curve.png\")\n",
        "\n",
        "    if args.checkpoint:\n",
        "        print('Saving model...')\n",
        "        torch.save(cnn.state_dict(), args.checkpoint)\n",
        "    \n",
        "    return cnn"
      ],
      "execution_count": 0,
      "outputs": []
    },
    {
      "metadata": {
        "id": "LAqGXV0iK1G9",
        "colab_type": "text"
      },
      "cell_type": "markdown",
      "source": [
        "## Convolutional neural networks (your code goes here)"
      ]
    },
    {
      "metadata": {
        "id": "XOG_sFloK9gs",
        "colab_type": "code",
        "colab": {}
      },
      "cell_type": "code",
      "source": [
        "######################################################################\n",
        "# MODELS\n",
        "######################################################################\n",
        "\n",
        "class MyConv2d(nn.Module):\n",
        "    \"\"\"\n",
        "    Our simplified implemented of nn.Conv2d module for 2D convolution\n",
        "    \"\"\"\n",
        "    def __init__(self, in_channels, out_channels, kernel_size, padding=None):\n",
        "        super(MyConv2d, self).__init__()\n",
        "\n",
        "        self.in_channels = in_channels\n",
        "        self.out_channels = out_channels\n",
        "        self.kernel_size = kernel_size\n",
        "        if padding is None:\n",
        "            self.padding = kernel_size // 2\n",
        "        else:\n",
        "            self.padding = padding\n",
        "        self.weight = nn.parameter.Parameter(torch.Tensor(\n",
        "            out_channels, in_channels, kernel_size, kernel_size))\n",
        "        self.bias = nn.parameter.Parameter(torch.Tensor(out_channels))\n",
        "        self.reset_parameters()\n",
        "\n",
        "    def reset_parameters(self):\n",
        "        n = self.in_channels * self.kernel_size * self.kernel_size\n",
        "        stdv = 1. / math.sqrt(n)\n",
        "        self.weight.data.uniform_(-stdv, stdv)\n",
        "        self.bias.data.uniform_(-stdv, stdv)\n",
        "\n",
        "    def forward(self, input):\n",
        "        return F.conv2d(input, self.weight, self.bias, padding=self.padding)\n",
        "\n",
        "\n",
        "class CNN(nn.Module):\n",
        "    def __init__(self, kernel, num_filters, num_colours, num_in_channels):\n",
        "        super(CNN, self).__init__()\n",
        "        padding = kernel // 2\n",
        "\n",
        "        ############### YOUR CODE GOES HERE ###############\n",
        "        #self.downconv1 = ...\n",
        "        self.downconv1 = nn.Sequential(\n",
        "            MyConv2d(1, num_filters, kernel_size=kernel, padding=padding),\n",
        "            nn.BatchNorm2d(num_filters),\n",
        "            nn.ReLU(),\n",
        "            nn.MaxPool2d(2),)\n",
        "        self.downconv2 = nn.Sequential(\n",
        "            MyConv2d(num_filters, num_filters*2, kernel_size=kernel, padding=padding),\n",
        "            nn.BatchNorm2d(num_filters*2),\n",
        "            nn.ReLU(),\n",
        "            nn.MaxPool2d(2),)\n",
        "\n",
        "        self.rfconv = nn.Sequential(\n",
        "            MyConv2d(num_filters*2, num_filters*2, kernel_size=kernel, padding=padding),\n",
        "            nn.BatchNorm2d(num_filters*2),\n",
        "            nn.ReLU())\n",
        "\n",
        "        self.upconv1 = nn.Sequential(\n",
        "            MyConv2d(num_filters*2, num_filters, kernel_size=kernel, padding=padding),\n",
        "            nn.BatchNorm2d(num_filters),\n",
        "            nn.ReLU(),\n",
        "            nn.Upsample(scale_factor=2),)\n",
        "        self.upconv2 = nn.Sequential(\n",
        "            MyConv2d(num_filters, 3, kernel_size=kernel, padding=padding),\n",
        "            nn.BatchNorm2d(3),\n",
        "            nn.ReLU(),\n",
        "            nn.Upsample(scale_factor=2),)\n",
        "        self.finalconv = MyConv2d(3, 24, kernel_size=kernel)\n",
        "        ###################################################\n",
        "\n",
        "    def forward(self, x):\n",
        "        self.out1 = self.downconv1(x)\n",
        "        self.out2 = self.downconv2(self.out1)\n",
        "        self.out3 = self.rfconv(self.out2)\n",
        "        self.out4 = self.upconv1(self.out3)\n",
        "        self.out5 = self.upconv2(self.out4)\n",
        "        self.out_final = self.finalconv(self.out5)\n",
        "        return self.out_final\n",
        "\n",
        "class UNet(nn.Module):\n",
        "    def __init__(self, kernel, num_filters, num_colours, num_in_channels):\n",
        "        super(UNet, self).__init__()\n",
        "\n",
        "        ############### YOUR CODE GOES HERE ############### \n",
        "        self.downconv1 = nn.Sequential(\n",
        "            MyConv2d(1, num_filters, kernel_size=kernel),\n",
        "            nn.BatchNorm2d(num_filters),\n",
        "            nn.ReLU(),\n",
        "            nn.MaxPool2d(2),)\n",
        "        self.downconv2 = nn.Sequential(\n",
        "            MyConv2d(num_filters, num_filters*2, kernel_size=kernel),\n",
        "            nn.BatchNorm2d(num_filters*2),\n",
        "            nn.ReLU(),\n",
        "            nn.MaxPool2d(2),)\n",
        "\n",
        "        self.rfconv = nn.Sequential(\n",
        "            MyConv2d(num_filters*2, num_filters*2, kernel_size=kernel),\n",
        "            nn.BatchNorm2d(num_filters*2),\n",
        "            nn.ReLU())\n",
        "\n",
        "        self.upconv1 = nn.Sequential(\n",
        "            MyConv2d(128, num_filters, kernel_size=kernel),\n",
        "            nn.BatchNorm2d(num_filters),\n",
        "            nn.ReLU(),\n",
        "            nn.Upsample(scale_factor=2),)\n",
        "        self.upconv2 = nn.Sequential(\n",
        "            MyConv2d(64, 3, kernel_size=kernel),\n",
        "            nn.BatchNorm2d(3),\n",
        "            nn.ReLU(),\n",
        "            nn.Upsample(scale_factor=2),)\n",
        "        self.finalconv = MyConv2d(4, 24, kernel_size=kernel)\n",
        "        ###################################################\n",
        "\n",
        "    def forward(self, x):\n",
        "        ############### YOUR CODE GOES HERE ###############\n",
        "        self.out1 = self.downconv1(x)\n",
        "        self.out2 = self.downconv2(self.out1)\n",
        "        self.out3 = self.rfconv(self.out2)\n",
        "        self.out4 = self.upconv1(torch.cat((self.out3,self.out2),1))\n",
        "        self.out5 = self.upconv2(torch.cat((self.out4, self.out1),1))\n",
        "        self.out_final = self.finalconv(torch.cat((self.out5,x),1))\n",
        "        return self.out_final\n",
        "        ###################################################\n",
        "        pass\n"
      ],
      "execution_count": 0,
      "outputs": []
    },
    {
      "metadata": {
        "id": "jCogvi3_nlfY",
        "colab_type": "text"
      },
      "cell_type": "markdown",
      "source": [
        "# CIFAR-10 colorization"
      ]
    },
    {
      "metadata": {
        "id": "CTZWiuxMjQTB",
        "colab_type": "text"
      },
      "cell_type": "markdown",
      "source": [
        "## Main training loop for CNN"
      ]
    },
    {
      "metadata": {
        "id": "fZHc_eStGAQz",
        "colab_type": "code",
        "colab": {}
      },
      "cell_type": "code",
      "source": [
        "args = AttrDict()\n",
        "args_dict = {\n",
        "              'gpu':True, \n",
        "              'valid':False, \n",
        "              'checkpoint':\"\", \n",
        "              'colours':'./data/colours/colour_kmeans24_cat7.npy', \n",
        "              'model':\"CNN\", \n",
        "              'kernel':3,\n",
        "              'num_filters':32, \n",
        "              'learn_rate':0.001, \n",
        "              'batch_size':100, \n",
        "              'epochs':25, \n",
        "              'seed':0,\n",
        "              'plot':True, \n",
        "              'experiment_name': 'colourization_cnn',\n",
        "              'visualize': False,\n",
        "              'downsize_input':False,\n",
        "}\n",
        "args.update(args_dict)\n",
        "cnn = train(args)"
      ],
      "execution_count": 0,
      "outputs": []
    },
    {
      "metadata": {
        "id": "ZXJzGP8inYF9",
        "colab_type": "text"
      },
      "cell_type": "markdown",
      "source": [
        "## Main training loop for UNet"
      ]
    },
    {
      "metadata": {
        "id": "2-vGs7qHndmY",
        "colab_type": "code",
        "colab": {
          "base_uri": "https://localhost:8080/",
          "height": 1462
        },
        "outputId": "c837d80e-da2d-42dd-e9e9-88e97accdc17"
      },
      "cell_type": "code",
      "source": [
        "args = AttrDict()\n",
        "args_dict = {\n",
        "              'gpu':True, \n",
        "              'valid':False, \n",
        "              'checkpoint':\"\", \n",
        "              'colours':'./data/colours/colour_kmeans24_cat7.npy', \n",
        "              'model':\"UNet\", \n",
        "              'kernel':3,\n",
        "              'num_filters':32, \n",
        "              'learn_rate':0.001, \n",
        "              'batch_size':100, \n",
        "              'epochs':25, \n",
        "              'seed':0,\n",
        "              'plot':True, \n",
        "              'experiment_name': 'colourization_unet',\n",
        "              'visualize': False,\n",
        "              'downsize_input':False,\n",
        "}\n",
        "args.update(args_dict)\n",
        "unet_cnn = train(args)"
      ],
      "execution_count": 92,
      "outputs": [
        {
          "output_type": "stream",
          "text": [
            "Loading data...\n",
            "data/cifar-10-batches-py.tar.gz\n",
            "Transforming data...\n",
            "Beginning training ...\n",
            "Epoch [1/25], Loss: 3.0454, Time (s): 2\n",
            "Epoch [1/25], Val Loss: 2.8990, Val Acc: 11.0%, Time(s): 2\n",
            "Epoch [2/25], Loss: 2.8117, Time (s): 4\n",
            "Epoch [2/25], Val Loss: 2.7208, Val Acc: 18.0%, Time(s): 5\n",
            "Epoch [3/25], Loss: 2.6554, Time (s): 7\n",
            "Epoch [3/25], Val Loss: 2.5830, Val Acc: 22.0%, Time(s): 7\n",
            "Epoch [4/25], Loss: 2.5346, Time (s): 9\n",
            "Epoch [4/25], Val Loss: 2.4749, Val Acc: 24.0%, Time(s): 10\n",
            "Epoch [5/25], Loss: 2.4381, Time (s): 12\n",
            "Epoch [5/25], Val Loss: 2.3860, Val Acc: 25.0%, Time(s): 12\n",
            "Epoch [6/25], Loss: 2.3608, Time (s): 15\n",
            "Epoch [6/25], Val Loss: 2.3115, Val Acc: 26.0%, Time(s): 15\n",
            "Epoch [7/25], Loss: 2.2971, Time (s): 17\n",
            "Epoch [7/25], Val Loss: 2.2490, Val Acc: 27.0%, Time(s): 18\n",
            "Epoch [8/25], Loss: 2.2422, Time (s): 20\n",
            "Epoch [8/25], Val Loss: 2.1996, Val Acc: 27.0%, Time(s): 20\n",
            "Epoch [9/25], Loss: 2.1935, Time (s): 22\n",
            "Epoch [9/25], Val Loss: 2.1582, Val Acc: 28.0%, Time(s): 23\n",
            "Epoch [10/25], Loss: 2.1497, Time (s): 25\n",
            "Epoch [10/25], Val Loss: 2.1159, Val Acc: 28.0%, Time(s): 26\n",
            "Epoch [11/25], Loss: 2.1106, Time (s): 28\n",
            "Epoch [11/25], Val Loss: 2.0759, Val Acc: 29.0%, Time(s): 28\n",
            "Epoch [12/25], Loss: 2.0765, Time (s): 31\n",
            "Epoch [12/25], Val Loss: 2.0416, Val Acc: 30.0%, Time(s): 31\n",
            "Epoch [13/25], Loss: 2.0461, Time (s): 33\n",
            "Epoch [13/25], Val Loss: 2.0157, Val Acc: 30.0%, Time(s): 34\n",
            "Epoch [14/25], Loss: 2.0177, Time (s): 36\n",
            "Epoch [14/25], Val Loss: 1.9881, Val Acc: 31.0%, Time(s): 37\n",
            "Epoch [15/25], Loss: 1.9897, Time (s): 39\n",
            "Epoch [15/25], Val Loss: 1.9596, Val Acc: 31.0%, Time(s): 39\n",
            "Epoch [16/25], Loss: 1.9592, Time (s): 42\n",
            "Epoch [16/25], Val Loss: 1.9248, Val Acc: 34.0%, Time(s): 42\n",
            "Epoch [17/25], Loss: 1.9243, Time (s): 45\n",
            "Epoch [17/25], Val Loss: 1.8951, Val Acc: 36.0%, Time(s): 45\n",
            "Epoch [18/25], Loss: 1.8918, Time (s): 47\n",
            "Epoch [18/25], Val Loss: 1.8710, Val Acc: 36.0%, Time(s): 48\n",
            "Epoch [19/25], Loss: 1.8621, Time (s): 50\n",
            "Epoch [19/25], Val Loss: 1.8475, Val Acc: 36.0%, Time(s): 51\n",
            "Epoch [20/25], Loss: 1.8372, Time (s): 53\n",
            "Epoch [20/25], Val Loss: 1.8480, Val Acc: 36.0%, Time(s): 54\n",
            "Epoch [21/25], Loss: 1.8129, Time (s): 56\n",
            "Epoch [21/25], Val Loss: 1.8217, Val Acc: 36.0%, Time(s): 57\n",
            "Epoch [22/25], Loss: 1.7913, Time (s): 59\n",
            "Epoch [22/25], Val Loss: 1.8008, Val Acc: 37.0%, Time(s): 60\n",
            "Epoch [23/25], Loss: 1.7730, Time (s): 62\n",
            "Epoch [23/25], Val Loss: 1.7874, Val Acc: 37.0%, Time(s): 63\n",
            "Epoch [24/25], Loss: 1.7569, Time (s): 66\n",
            "Epoch [24/25], Val Loss: 1.7728, Val Acc: 37.0%, Time(s): 66\n",
            "Epoch [25/25], Loss: 1.7429, Time (s): 69\n",
            "Epoch [25/25], Val Loss: 1.7476, Val Acc: 38.0%, Time(s): 69\n"
          ],
          "name": "stdout"
        },
        {
          "output_type": "display_data",
          "data": {
            "image/png": "[encoded data removed]",
            "text/plain": [
              "<Figure size 576x396 with 1 Axes>"
            ]
          },
          "metadata": {
            "tags": []
          }
        },
        {
          "output_type": "display_data",
          "data": {
            "image/png": "[encoded data removed]",
            "text/plain": [
              "<Figure size 576x396 with 1 Axes>"
            ]
          },
          "metadata": {
            "tags": []
          }
        }
      ]
    },
    {
      "metadata": {
        "id": "iVRRksAUoLRX",
        "colab_type": "text"
      },
      "cell_type": "markdown",
      "source": [
        "# CIFAR-10 super-resolution"
      ]
    },
    {
      "metadata": {
        "id": "qylCy-EGofPq",
        "colab_type": "text"
      },
      "cell_type": "markdown",
      "source": [
        "## Main training loop"
      ]
    },
    {
      "metadata": {
        "id": "LOduh0wloOtr",
        "colab_type": "code",
        "colab": {}
      },
      "cell_type": "code",
      "source": [
        "args = AttrDict()\n",
        "args_dict = {\n",
        "              'gpu':True, \n",
        "              'valid':False, \n",
        "              'checkpoint':\"\", \n",
        "              'colours':'./data/colours/colour_kmeans24_cat7.npy', \n",
        "              'model':\"CNN\", \n",
        "              'kernel':3,\n",
        "              'num_filters':32, \n",
        "              'learn_rate':0.001, \n",
        "              'batch_size':100, \n",
        "              'epochs':25, \n",
        "              'seed':0,\n",
        "              'plot':True, \n",
        "              'experiment_name': 'super_res_unet',\n",
        "              'visualize': False,\n",
        "              'downsize_input':True,\n",
        "}\n",
        "args.update(args_dict)\n",
        "sr_cnn = train(args)"
      ],
      "execution_count": 0,
      "outputs": []
    },
    {
      "metadata": {
        "id": "0i-ys_cl-Kuh",
        "colab_type": "text"
      },
      "cell_type": "markdown",
      "source": [
        "# Visualization"
      ]
    },
    {
      "metadata": {
        "id": "GaPJY4g6MLN8",
        "colab_type": "text"
      },
      "cell_type": "markdown",
      "source": [
        "You will run the following code to generate visualization results. The generated images are saved in the file system of this Colab notebook. You can find them by selecting  the \"Files\" tab on the left side of the screen. \n",
        "\n",
        ">  **Files**  →   **CSC421** →   **a2**  →   **outputs**"
      ]
    },
    {
      "metadata": {
        "id": "I56OMNq_NZIF",
        "colab_type": "text"
      },
      "cell_type": "markdown",
      "source": [
        "## Visualize CNN"
      ]
    },
    {
      "metadata": {
        "id": "aXvqoQYONMTA",
        "colab_type": "code",
        "colab": {}
      },
      "cell_type": "code",
      "source": [
        "args = AttrDict()\n",
        "args_dict = {\n",
        "              'colours':'./data/colours/colour_kmeans24_cat7.npy', \n",
        "              'index':0,\n",
        "              'experiment_name': 'colourization_cnn',\n",
        "              'downsize_input':False,\n",
        "}\n",
        "args.update(args_dict)\n",
        "plot_activation(args, cnn)"
      ],
      "execution_count": 0,
      "outputs": []
    },
    {
      "metadata": {
        "id": "xuOvxfA1NMz3",
        "colab_type": "text"
      },
      "cell_type": "markdown",
      "source": [
        "## Visualize UNet"
      ]
    },
    {
      "metadata": {
        "id": "HSSB4wd8-M7g",
        "colab_type": "code",
        "colab": {}
      },
      "cell_type": "code",
      "source": [
        "args = AttrDict()\n",
        "args_dict = {\n",
        "              'colours':'./data/colours/colour_kmeans24_cat7.npy', \n",
        "              'index':0,\n",
        "              'experiment_name': 'colourization_unet',\n",
        "              'downsize_input':False,\n",
        "}\n",
        "args.update(args_dict)\n",
        "plot_activation(args, unet_cnn)"
      ],
      "execution_count": 0,
      "outputs": []
    },
    {
      "metadata": {
        "id": "GUujoDHaPaui",
        "colab_type": "text"
      },
      "cell_type": "markdown",
      "source": [
        "## Visualize super-resolution"
      ]
    },
    {
      "metadata": {
        "id": "dsvPv4KgAZrx",
        "colab_type": "code",
        "colab": {}
      },
      "cell_type": "code",
      "source": [
        "args = AttrDict()\n",
        "args_dict = {\n",
        "              'colours':'./data/colours/colour_kmeans24_cat7.npy', \n",
        "              'index':0,\n",
        "              'experiment_name': 'super_res_unet',\n",
        "              'downsize_input':True,\n",
        "}\n",
        "args.update(args_dict)\n",
        "plot_activation(args, sr_cnn)"
      ],
      "execution_count": 0,
      "outputs": []
    },
    {
      "metadata": {
        "id": "VwYseLejNx7e",
        "colab_type": "code",
        "colab": {}
      },
      "cell_type": "code",
      "source": [
        ""
      ],
      "execution_count": 0,
      "outputs": []
    }
  ]
}